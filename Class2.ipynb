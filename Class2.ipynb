{
  "nbformat": 4,
  "nbformat_minor": 0,
  "metadata": {
    "colab": {
      "provenance": []
    },
    "kernelspec": {
      "name": "python3",
      "display_name": "Python 3"
    },
    "language_info": {
      "name": "python"
    }
  },
  "cells": [
    {
      "cell_type": "code",
      "execution_count": null,
      "metadata": {
        "colab": {
          "base_uri": "https://localhost:8080/"
        },
        "id": "hpyHEFzToUL_",
        "outputId": "ad6076dc-20e9-46ef-b251-f6ad92f8cf10"
      },
      "outputs": [
        {
          "output_type": "stream",
          "name": "stdout",
          "text": [
            "enter a number 5\n",
            "25.0\n"
          ]
        }
      ],
      "source": [
        "num= float(input(\"enter a number \"))\n",
        "print(num*5)\n"
      ]
    },
    {
      "cell_type": "code",
      "source": [
        "num = float(input(\"Enter a number \"))\n",
        "if num>0:\n",
        "  print(\"positive\")\n",
        "else :\n",
        "  print(\"negative\")"
      ],
      "metadata": {
        "colab": {
          "base_uri": "https://localhost:8080/"
        },
        "id": "W2hCDdino_X2",
        "outputId": "b1849fdb-944c-47d2-851c-6a8c876d43de"
      },
      "execution_count": null,
      "outputs": [
        {
          "output_type": "stream",
          "name": "stdout",
          "text": [
            "Enter a number 9\n",
            "positive\n"
          ]
        }
      ]
    },
    {
      "cell_type": "code",
      "source": [
        "x = int(input(\"Enter number:\"))\n",
        "y= int(input(\"Enter a number \"))\n",
        "operation = input(\"Enter an operation (+,-,*,/,**): \")\n",
        "if operation==\"+\":\n",
        "  print (x+y)\n",
        "elif operation ==\"-\" :\n",
        "  print (x-y)\n",
        "elif operation==\"*\":\n",
        "  print(x*y)\n",
        "elif operation==\"/\" and y!=0:\n",
        "  print (x/y)\n",
        "elif operation==\"**\":\n",
        "  print (x**y)\n",
        "else:\n",
        "  print (\"I do not support this operation! \")\n"
      ],
      "metadata": {
        "colab": {
          "base_uri": "https://localhost:8080/"
        },
        "id": "pKu6Enj7pZLv",
        "outputId": "01bde15a-080a-4120-b66a-32f0c8941f46"
      },
      "execution_count": null,
      "outputs": [
        {
          "output_type": "stream",
          "name": "stdout",
          "text": [
            "Enter number:3\n",
            "Enter a number 2\n",
            "Enter an operation (+,-,*,/,**): **\n",
            "9\n"
          ]
        }
      ]
    },
    {
      "cell_type": "code",
      "source": [
        "3**3"
      ],
      "metadata": {
        "colab": {
          "base_uri": "https://localhost:8080/"
        },
        "id": "qwcWTPYBrTGg",
        "outputId": "c456ba6e-9a9c-4e3a-980d-ed085066eee1"
      },
      "execution_count": null,
      "outputs": [
        {
          "output_type": "execute_result",
          "data": {
            "text/plain": [
              "27"
            ]
          },
          "metadata": {},
          "execution_count": 8
        }
      ]
    },
    {
      "cell_type": "code",
      "source": [
        "num= float(input (\"Enter a number \"))\n",
        "if num>=0 and num<=1:\n",
        "  print(\"Percentage is\",num*100,\"%\")\n",
        "else:\n",
        "  print (\"I cannot do it ! \")"
      ],
      "metadata": {
        "colab": {
          "base_uri": "https://localhost:8080/"
        },
        "id": "_ZVxEXiTr7Xg",
        "outputId": "c16e58a3-4ab1-4260-ab31-41d47e341e37"
      },
      "execution_count": null,
      "outputs": [
        {
          "output_type": "stream",
          "name": "stdout",
          "text": [
            "Enter a number1\n",
            "Percentage is 100.0 %\n"
          ]
        }
      ]
    },
    {
      "cell_type": "code",
      "source": [
        "text = \"My name is Laetitia and I live in london\"\n",
        "print (text [-1])\n",
        "\n"
      ],
      "metadata": {
        "colab": {
          "base_uri": "https://localhost:8080/"
        },
        "id": "xPR4A0VDtYu-",
        "outputId": "6ce3f22d-ed0b-4e85-afc8-6e0b7cb4c033"
      },
      "execution_count": null,
      "outputs": [
        {
          "output_type": "stream",
          "name": "stdout",
          "text": [
            "n\n"
          ]
        }
      ]
    },
    {
      "cell_type": "code",
      "source": [
        "city= \"London\"\n",
        "print ( city [-6:])"
      ],
      "metadata": {
        "colab": {
          "base_uri": "https://localhost:8080/"
        },
        "id": "qb_X7LGkvUUM",
        "outputId": "7531f367-ebae-4c1d-fd23-fd066a86d327"
      },
      "execution_count": null,
      "outputs": [
        {
          "output_type": "stream",
          "name": "stdout",
          "text": [
            "London\n"
          ]
        }
      ]
    },
    {
      "cell_type": "code",
      "source": [
        "city= input(\"Enter a city \")\n",
        "if city[0]==\"L\" :\n",
        "  print(\"Starts with L\")\n",
        "else :\n",
        "  print (\"Doesn't start with L\")\n"
      ],
      "metadata": {
        "colab": {
          "base_uri": "https://localhost:8080/"
        },
        "id": "A2uR89Aow9SZ",
        "outputId": "3f37bc81-c0bd-45f0-fc02-7670d03d65ac"
      },
      "execution_count": null,
      "outputs": [
        {
          "output_type": "stream",
          "name": "stdout",
          "text": [
            "Enter a city Rome\n",
            "Doesn't start with L\n"
          ]
        }
      ]
    },
    {
      "cell_type": "code",
      "source": [
        "phrase=input(\"Enter a phrase \")\n",
        "if phrase[-1]==\".\":\n",
        "  print( \"all good\")\n",
        "else:\n",
        "  print (\"You need a dot ! \")"
      ],
      "metadata": {
        "colab": {
          "base_uri": "https://localhost:8080/"
        },
        "id": "tO0wRqlOx2so",
        "outputId": "af039365-ae5a-4e88-806c-535f949a9401"
      },
      "execution_count": null,
      "outputs": [
        {
          "output_type": "stream",
          "name": "stdout",
          "text": [
            "Enter a phrase hi \n",
            "You need a dot ! \n"
          ]
        }
      ]
    }
  ]
}