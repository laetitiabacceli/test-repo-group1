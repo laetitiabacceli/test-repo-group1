{
  "nbformat": 4,
  "nbformat_minor": 0,
  "metadata": {
    "colab": {
      "provenance": []
    },
    "kernelspec": {
      "name": "python3",
      "display_name": "Python 3"
    },
    "language_info": {
      "name": "python"
    }
  },
  "cells": [
    {
      "cell_type": "code",
      "execution_count": 4,
      "metadata": {
        "colab": {
          "base_uri": "https://localhost:8080/"
        },
        "id": "R9ipxFjS4SPk",
        "outputId": "b55166da-018b-49c3-c871-796c3c372ac2"
      },
      "outputs": [
        {
          "output_type": "stream",
          "name": "stdout",
          "text": [
            "Enter a number: 4\n",
            "is positive?  True\n"
          ]
        }
      ],
      "source": [
        "num= int(input(\"Enter a number: \"))\n",
        "\n",
        "if num>0 :\n",
        "  positive=True\n",
        "else :\n",
        " positive=False\n",
        "print(\"is positive? \",positive)\n"
      ]
    },
    {
      "cell_type": "code",
      "source": [
        "age= int(input(\"Enter a number: \"))\n",
        "\n",
        "if age<18:\n",
        "  watch=False\n",
        "elif age>=18 :\n",
        "  watch=True\n",
        "\n",
        "if age>=60:\n",
        "  senior=True\n",
        "else :\n",
        "  senior=False\n",
        "\n",
        "print(watch,senior)\n"
      ],
      "metadata": {
        "colab": {
          "base_uri": "https://localhost:8080/"
        },
        "id": "NgCPFEey5apT",
        "outputId": "be3290bb-c404-49ac-a319-c28b09cdf664"
      },
      "execution_count": 7,
      "outputs": [
        {
          "output_type": "stream",
          "name": "stdout",
          "text": [
            "Enter a number: 60\n",
            "True True\n"
          ]
        }
      ]
    },
    {
      "cell_type": "code",
      "source": [
        "score= float(input(\"Enter a number: \"))\n",
        "\n",
        "if score<10:\n",
        "  fail=True\n",
        "else:\n",
        "  fail=False\n",
        "\n",
        "if score>=15:\n",
        "  distinction=True\n",
        "else :\n",
        "  distinction=False\n",
        "\n",
        "print(fail,distinction)"
      ],
      "metadata": {
        "colab": {
          "base_uri": "https://localhost:8080/"
        },
        "id": "-TUGv2t86iPU",
        "outputId": "31d9c2b7-8ceb-448b-944d-6a6842d3c8f3"
      },
      "execution_count": 9,
      "outputs": [
        {
          "output_type": "stream",
          "name": "stdout",
          "text": [
            "Enter a number: 4\n",
            "True False\n"
          ]
        }
      ]
    },
    {
      "cell_type": "code",
      "source": [
        "temperature= float(input(\"Enter a number \"))\n",
        "\n",
        "if temperature<20:\n",
        "  heat=True\n",
        "else:\n",
        "  heat=False\n",
        "\n",
        "if heat==True:\n",
        "  close=True\n",
        "else:\n",
        "  close=False\n",
        "\n",
        "if close==True:\n",
        "  ventilation=True\n",
        "else :\n",
        "  ventilation=False\n",
        "\n",
        "print(heat,close,ventilation)\n"
      ],
      "metadata": {
        "colab": {
          "base_uri": "https://localhost:8080/"
        },
        "id": "WYfZiNMF7nCY",
        "outputId": "98a9aa1c-35d7-417b-b927-179bae42a049"
      },
      "execution_count": 13,
      "outputs": [
        {
          "output_type": "stream",
          "name": "stdout",
          "text": [
            "Enter a number 4\n",
            "True True True\n"
          ]
        }
      ]
    },
    {
      "cell_type": "code",
      "source": [
        "students=[\"Mary\",\"Tom\",\"Stelios\",\"Kate\"]\n",
        "scores= [15,12,9,18]\n",
        "\n",
        "print(students[0:2])\n",
        "print(scores)\n"
      ],
      "metadata": {
        "colab": {
          "base_uri": "https://localhost:8080/"
        },
        "id": "xdGvwsQ_9uOx",
        "outputId": "226a8187-5ffc-4422-82c3-f7e00f5b0870"
      },
      "execution_count": 15,
      "outputs": [
        {
          "output_type": "stream",
          "name": "stdout",
          "text": [
            "['Mary', 'Tom']\n",
            "[15, 12, 9, 18]\n"
          ]
        }
      ]
    },
    {
      "cell_type": "code",
      "source": [
        "numbers= [10,20,30,40,50,60,70,80,90]\n",
        "\n",
        "print(numbers[1])\n",
        "print(numbers[-2])\n",
        "print(numbers[0:3])\n",
        "print( numbers [-3:])\n",
        "print(numbers [4:6])"
      ],
      "metadata": {
        "colab": {
          "base_uri": "https://localhost:8080/"
        },
        "id": "ZuSaELZZ-6LZ",
        "outputId": "d771d056-fbe3-41e3-f50c-b94c117999f2"
      },
      "execution_count": 24,
      "outputs": [
        {
          "output_type": "stream",
          "name": "stdout",
          "text": [
            "20\n",
            "80\n",
            "[10, 20, 30]\n",
            "[70, 80, 90]\n",
            "[50, 60]\n"
          ]
        }
      ]
    }
  ]
}