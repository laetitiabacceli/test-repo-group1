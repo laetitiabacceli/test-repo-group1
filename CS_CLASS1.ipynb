{
  "nbformat": 4,
  "nbformat_minor": 0,
  "metadata": {
    "colab": {
      "provenance": []
    },
    "kernelspec": {
      "name": "python3",
      "display_name": "Python 3"
    },
    "language_info": {
      "name": "python"
    }
  },
  "cells": [
    {
      "cell_type": "code",
      "execution_count": null,
      "metadata": {
        "colab": {
          "base_uri": "https://localhost:8080/"
        },
        "id": "bFvXv1g8DH_m",
        "outputId": "f35f2bff-db9c-43bf-b68a-422554c073c0"
      },
      "outputs": [
        {
          "output_type": "stream",
          "name": "stdout",
          "text": [
            "10\n",
            "Laetitia\n",
            "London Paris\n"
          ]
        }
      ],
      "source": [
        "print(10)\n",
        "print(\"Laetitia\")\n",
        "print(\"London\", \"Paris\")"
      ]
    },
    {
      "cell_type": "code",
      "source": [
        "print(10*2)"
      ],
      "metadata": {
        "colab": {
          "base_uri": "https://localhost:8080/"
        },
        "id": "QLTYUoi4EW1F",
        "outputId": "7e34390e-34bc-496a-a910-a498682397ac"
      },
      "execution_count": null,
      "outputs": [
        {
          "output_type": "stream",
          "name": "stdout",
          "text": [
            "20\n"
          ]
        }
      ]
    },
    {
      "cell_type": "code",
      "source": [
        "input (\"enter your name:\")"
      ],
      "metadata": {
        "colab": {
          "base_uri": "https://localhost:8080/",
          "height": 54
        },
        "id": "NswQjYjfEwv8",
        "outputId": "2da88a4c-7c08-4223-9d6f-f89a74ee6d1e"
      },
      "execution_count": null,
      "outputs": [
        {
          "name": "stdout",
          "output_type": "stream",
          "text": [
            "enter your name:Laetitia\n"
          ]
        },
        {
          "output_type": "execute_result",
          "data": {
            "text/plain": [
              "'Laetitia'"
            ],
            "application/vnd.google.colaboratory.intrinsic+json": {
              "type": "string"
            }
          },
          "metadata": {},
          "execution_count": 17
        }
      ]
    },
    {
      "cell_type": "code",
      "source": [
        "# Print number 10.10\n",
        "print (10.10)"
      ],
      "metadata": {
        "colab": {
          "base_uri": "https://localhost:8080/"
        },
        "id": "GYasT3V2FLSa",
        "outputId": "8de9a399-e6aa-4667-bbc9-8affc6d0b957"
      },
      "execution_count": null,
      "outputs": [
        {
          "output_type": "stream",
          "name": "stdout",
          "text": [
            "10.1\n"
          ]
        }
      ]
    },
    {
      "cell_type": "code",
      "source": [
        "# x is called variable\n",
        "x = 10.20\n",
        "name = \" Laetitia\"\n",
        "print (x)\n",
        "print (name)\n",
        "\n",
        "age= 18\n",
        "last_name= \"Bacceli\""
      ],
      "metadata": {
        "colab": {
          "base_uri": "https://localhost:8080/"
        },
        "id": "qYLrb1w-F0NH",
        "outputId": "f6bbca97-a6e0-492d-f9d1-f85efb61612c"
      },
      "execution_count": null,
      "outputs": [
        {
          "output_type": "stream",
          "name": "stdout",
          "text": [
            "10.2\n",
            " Laetitia\n"
          ]
        }
      ]
    },
    {
      "cell_type": "markdown",
      "source": [],
      "metadata": {
        "id": "HcU5-odRDZQn"
      }
    },
    {
      "cell_type": "code",
      "source": [
        "city=input(\"Where are you from? \")\n",
        "name=input(\"What is your first name? \")\n",
        "print (city, name)\n"
      ],
      "metadata": {
        "colab": {
          "base_uri": "https://localhost:8080/"
        },
        "id": "OWUOQaP6GS0o",
        "outputId": "2cddda08-d0a1-446b-e4a7-39e587491062"
      },
      "execution_count": null,
      "outputs": [
        {
          "output_type": "stream",
          "name": "stdout",
          "text": [
            "Where are you from? Luxembourg\n",
            "What is your first name? Laetitia\n",
            "Luxembourg Laetitia\n"
          ]
        }
      ]
    },
    {
      "cell_type": "code",
      "source": [
        "x= float(input(\"Enter a number: \"))\n",
        "y= int(input(\"Enter a second number: \"))\n",
        "print (\"Result is\",x+y)"
      ],
      "metadata": {
        "colab": {
          "base_uri": "https://localhost:8080/"
        },
        "id": "R5LHaA9iIZ8H",
        "outputId": "bf099b15-8a7c-4980-fab6-60973cee9e18"
      },
      "execution_count": null,
      "outputs": [
        {
          "output_type": "stream",
          "name": "stdout",
          "text": [
            "Enter a number: 34\n",
            "Enter a second number: 12\n",
            "Result is 46.0\n"
          ]
        }
      ]
    },
    {
      "cell_type": "code",
      "source": [
        "x= int(input(\"Enter a number: \"))\n",
        "y= int(input(\"Enter a number: \"))\n",
        "z= int(input(\"Enter a number\"))\n",
        "print (\"The product is:\", x*y*z)"
      ],
      "metadata": {
        "colab": {
          "base_uri": "https://localhost:8080/"
        },
        "id": "65qegtWfKDDw",
        "outputId": "0cc685e5-0698-4674-b6eb-006d857c7744"
      },
      "execution_count": null,
      "outputs": [
        {
          "output_type": "stream",
          "name": "stdout",
          "text": [
            "Enter a number: 1\n",
            "Enter a number: 2\n",
            "Enter a number3\n",
            "The product is: 6\n"
          ]
        }
      ]
    },
    {
      "cell_type": "code",
      "source": [
        "x=float(input(\"Enter a number: \"))\n",
        "y=float(input(\"Enter a number: \"))\n",
        "print (x/y)"
      ],
      "metadata": {
        "colab": {
          "base_uri": "https://localhost:8080/"
        },
        "id": "_weZq2-eLTP4",
        "outputId": "bd6487fe-cc6f-4a05-befb-0598bdd64c97"
      },
      "execution_count": null,
      "outputs": [
        {
          "output_type": "stream",
          "name": "stdout",
          "text": [
            "Enter a number: 10\n",
            "Enter a number: 2\n",
            "5.0\n"
          ]
        }
      ]
    },
    {
      "cell_type": "code",
      "source": [
        "x= float( input(\"Enter a number \"))\n",
        "y=float( input(\"enter a number \"))\n",
        "\n",
        "if y==0:\n",
        "  print(\"I cannot divide\")\n",
        "else:\n",
        "  print(x/y)"
      ],
      "metadata": {
        "colab": {
          "base_uri": "https://localhost:8080/"
        },
        "id": "toFRC1HOMaS4",
        "outputId": "de0443ad-1bfc-45b3-d226-681f3350ea76"
      },
      "execution_count": null,
      "outputs": [
        {
          "output_type": "stream",
          "name": "stdout",
          "text": [
            "Enter a number 435\n",
            "enter a number 34\n",
            "12.794117647058824\n"
          ]
        }
      ]
    },
    {
      "cell_type": "code",
      "source": [
        "city = input(\"Enter a city: \")\n",
        "\n",
        "if city== \"Paris\":\n",
        "  print(\"Bonjour\")\n",
        "  print(10)\n",
        "else:\n",
        "  print (\"Hi!\")\n",
        "  print (\"100\")"
      ],
      "metadata": {
        "colab": {
          "base_uri": "https://localhost:8080/"
        },
        "id": "B0VaP6P8NQxO",
        "outputId": "0fa00011-9220-458e-a61d-0bf8edb104b7"
      },
      "execution_count": null,
      "outputs": [
        {
          "output_type": "stream",
          "name": "stdout",
          "text": [
            "Enter a city: London\n",
            "Hi!\n",
            "100\n"
          ]
        }
      ]
    },
    {
      "cell_type": "markdown",
      "source": [
        "Exercise 1\n",
        "\n",
        "Create a program to ask the user their name and their age. If the user is over 18 then print \"you are an adult\". If the user is inder 18 then print \" you are a kid !\"."
      ],
      "metadata": {
        "id": "BHoxsqRQR3P-"
      }
    },
    {
      "cell_type": "code",
      "source": [
        "x= int(input(\"How old are you: \"))\n",
        "if x>18:\n",
        " print(\" You are an adult \")\n",
        "else :\n",
        "  print(\"You are a kid!\")"
      ],
      "metadata": {
        "colab": {
          "base_uri": "https://localhost:8080/"
        },
        "id": "eEaSlwHSSLkJ",
        "outputId": "a52fc422-98a9-4421-8da2-8577021c2818"
      },
      "execution_count": null,
      "outputs": [
        {
          "output_type": "stream",
          "name": "stdout",
          "text": [
            "How old are you: 17\n",
            "You are a kid!\n"
          ]
        }
      ]
    },
    {
      "cell_type": "code",
      "source": [
        "x= int(input(\"Enter a number: \"))\n",
        "y= int(input(\"Enter a number: \"))\n",
        "\n",
        "max_num = max(x,y)\n",
        "\n",
        "print(\"The maximum number is\",(max_num))"
      ],
      "metadata": {
        "colab": {
          "base_uri": "https://localhost:8080/"
        },
        "id": "Cxoe3VX6UelU",
        "outputId": "6a7fe2d8-e526-4033-9305-b741b1fdfd20"
      },
      "execution_count": null,
      "outputs": [
        {
          "output_type": "stream",
          "name": "stdout",
          "text": [
            "Enter a number: 30\n",
            "Enter a number: 40\n",
            "The maximum number is 40\n"
          ]
        }
      ]
    },
    {
      "cell_type": "code",
      "source": [
        "x=10\n",
        "y=20\n",
        "\n",
        "if x>y:\n",
        "  print(\"x is greater than y\")\n",
        "elif x<y:\n",
        "  print(\"x is less than y\")\n",
        "else :\n",
        "  print(\"x equal to y\")"
      ],
      "metadata": {
        "colab": {
          "base_uri": "https://localhost:8080/"
        },
        "id": "Zryclp22VqaK",
        "outputId": "f47d2be8-d087-4108-f149-fd6c99793e45"
      },
      "execution_count": null,
      "outputs": [
        {
          "output_type": "stream",
          "name": "stdout",
          "text": [
            "x is less than y\n"
          ]
        }
      ]
    },
    {
      "cell_type": "code",
      "source": [
        "x= int(input(\"Enter a score: \"))\n",
        "\n",
        "if x<50:\n",
        "  print:(\"you failed\")\n",
        "elif x>=50 and x<70:\n",
        "  print:(\"you passed \")\n",
        "elif x>=70 and x<=100:\n",
        "  print(\"Distinction\")\n",
        "else:\n",
        "  print(\"Something is wrong !\")\n"
      ],
      "metadata": {
        "colab": {
          "base_uri": "https://localhost:8080/"
        },
        "id": "eyEBUz_PWcMs",
        "outputId": "1c134589-061f-4cc6-b4d2-e0398c26e597"
      },
      "execution_count": null,
      "outputs": [
        {
          "output_type": "stream",
          "name": "stdout",
          "text": [
            "Enter a score: 90\n",
            "Distinction\n"
          ]
        }
      ]
    }
  ]
}